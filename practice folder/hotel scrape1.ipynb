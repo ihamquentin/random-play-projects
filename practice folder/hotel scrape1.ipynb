{
 "cells": [
  {
   "cell_type": "code",
   "execution_count": null,
   "metadata": {},
   "outputs": [],
   "source": [
    "from bs4 import BeautifulSoup\n",
    "import requests\n",
    "import random\n",
    "import os \n",
    "import time \n",
    "import re\n",
    "import csv\n",
    "from lxml import html"
   ]
  },
  {
   "cell_type": "code",
   "execution_count": null,
   "metadata": {},
   "outputs": [],
   "source": [
    "import csv\n",
    "i=0\n",
    "state = 'edo'\n",
    "url = 'https://hotels.ng/hotels-in-{}/{}'.format(state, i)\n",
    "while True:\n",
    "    i = i+1\n",
    "    page = requests.get(url)\n",
    "    if page.status_code != 200:\n",
    "        break\n",
    "    url = 'https://hotels.ng/hotels-in-{}/{}'.format(state, i)\n",
    "\n",
    "    #Your scraping code goes here\n",
    "    page = requests.get(url)\n",
    "    tree = html.fromstring(page.content)\n",
    "    prices = tree.xpath('//p[@class=\"listing-hotels-prices-discount\"]/text()')\n",
    "    prices =  [s.replace('\\n', '') for s in prices]\n",
    "    prices =  [s.strip(' ') for s in prices]\n",
    "    prices = ' '.join(prices).split()\n",
    "    name = tree.xpath('//h2[@class=\"listing-hotels-name\"]/text()')\n",
    "    reviews = tree.xpath('//i/text()')\n",
    "    reviews = [a.replace('\\n', '') for a in reviews]\n",
    "    reviews = [a.replace(',', '') for a in reviews]\n",
    "    reviews = [a.strip(' ') for a in reviews]\n",
    "    reviews = [x.strip('s') for x in reviews if x.strip()]\n",
    "    reviews = [x.strip() for x in reviews if x.strip()]\n",
    "    address = tree.xpath('//p[@class=\"listing-hotels-address color-dark hidden-xs hidden-sm\"]/text()')\n",
    "    \n",
    "    print('name: ', name)\n",
    "    print('reviews: ', reviews)\n",
    "    print('Prices: ', prices)\n",
    "    print('')\n",
    "    print('')\n",
    "    print('address: ', address)\n"
   ]
  }
 ],
 "metadata": {
  "kernelspec": {
   "display_name": "Python 3",
   "language": "python",
   "name": "python3"
  },
  "language_info": {
   "codemirror_mode": {
    "name": "ipython",
    "version": 3
   },
   "file_extension": ".py",
   "mimetype": "text/x-python",
   "name": "python",
   "nbconvert_exporter": "python",
   "pygments_lexer": "ipython3",
   "version": "3.7.1"
  }
 },
 "nbformat": 4,
 "nbformat_minor": 2
}
