{
 "cells": [
  {
   "cell_type": "code",
   "execution_count": 1,
   "metadata": {},
   "outputs": [],
   "source": [
    "from bs4 import BeautifulSoup as bs\n",
    "import requests\n",
    "import pandas as pd\n",
    "import time \n",
    "from lxml import html"
   ]
  },
  {
   "cell_type": "code",
   "execution_count": null,
   "metadata": {},
   "outputs": [],
   "source": [
    "header = {'User-agent' : 'Mozilla/5.0 (Windows; U; Windows NT 5.1; de; rv:1.9.1.5) Gecko/20091102 Firefox/3.5.5'}\n",
    "site_link = 'https://www.worldometers.info/coronavirus/'\n",
    "country = 'china'\n",
    "request = Request(site_link, headers=header)\n",
    "tree = html.fromstring(request.content)\n",
    "table = tree.xpath('//*[@id=\"main_table_countries\"]/tbody[1]')\n",
    "country_el = table.xpath('//td[contains(text(),{})]').format(country)\n",
    "row = country_el.xpath('./..')\n",
    "\n",
    "data = row.text.split(' ')\n",
    "total_cases = data[1]\n",
    "new_cases = data[2]\n",
    "total_deaths = data[3]\n",
    "new_deaths = data[4]\n",
    "active_cases = data[5]\n",
    "total_recov = data[6]\n",
    "critical = data[7]"
   ]
  },
  {
   "cell_type": "code",
   "execution_count": null,
   "metadata": {},
   "outputs": [],
   "source": [
    "def send_mail(country_el,total_cases,new_cases,total_deaths,new_deaths,\n",
    "             active_cases,total_recov):\n",
    "    server = smtplib.SMTP('smtp.gmail.com', 587)\n",
    "    server.ehlo()\n",
    "    server.starttls()\n",
    "    server.ehlo()\n",
    "    server.login('myemail', 'mypass')\n",
    "    subject =n 'corona virus stats in {} today'.format(country)\n",
    "    body = 'Todayv in '+country_el+'\\\\nThere is new data on the virus corona: \\\n",
    "    \\nTotal cases: '+total_cases+'\\\\nNew cases: '+new_cases+'\\\\nTotal deaths: '+total_deaths+'\\\n",
    "    \\nNew deaths: '+new_deaths+'\\\\nActive cases: '+active_cases+'\\\\nTotal recovered: '+total_recov+'\\\n",
    "    \\nCritical cases: '+critical+'\\\\nCheck out the link: https://www.worldometers.info/coronavirus/'\n",
    "    \n",
    "    msg = f\"Subject:{subject}\\n\\n{body}\"\n",
    "    server.sendmail('CoronaVirus', 'email', msg)\n",
    "    print('hey email has been sent!')\n",
    "    server.quit()\n",
    "    return None\n"
   ]
  }
 ],
 "metadata": {
  "kernelspec": {
   "display_name": "Python 3",
   "language": "python",
   "name": "python3"
  },
  "language_info": {
   "codemirror_mode": {
    "name": "ipython",
    "version": 3
   },
   "file_extension": ".py",
   "mimetype": "text/x-python",
   "name": "python",
   "nbconvert_exporter": "python",
   "pygments_lexer": "ipython3",
   "version": "3.7.1"
  }
 },
 "nbformat": 4,
 "nbformat_minor": 2
}
