{
 "cells": [
  {
   "cell_type": "code",
   "execution_count": 1,
   "metadata": {},
   "outputs": [],
   "source": [
    "import urllib\n",
    "\n",
    "query = \"'python biuld'\"\n",
    "query = urllib.parse.quote_plus(query) # Format into URL encoding\n",
    "number_result = 3\n",
    "\n",
    "import requests\n",
    "from fake_useragent import UserAgent\n",
    "from bs4 import BeautifulSoup\n",
    "import re \n",
    "\n",
    "ua = UserAgent()\n",
    "\n",
    "google_url = \"https://www.google.com/search?q=\" + query + \"&num=\" + str(number_result)\n",
    "response = requests.get(google_url, {\"User-Agent\": ua.random})\n",
    "soup = BeautifulSoup(response.text, \"html.parser\")\n",
    "\n",
    "result_div = soup.find_all('div', attrs = {'class': 'ZINbbc'})\n",
    "\n",
    "links = []\n",
    "titles = []\n",
    "descriptions = []\n",
    "for r in result_div:\n",
    "    # Checks if each element is present, else, raise exception\n",
    "    try:\n",
    "        link = r.find('a', href = True)\n",
    "        title = r.find('div', attrs={'class':'vvjwJb'}).get_text()\n",
    "        description = r.find('div', attrs={'class':'s3v9rd'}).get_text()\n",
    "        \n",
    "        # Check to make sure everything is present before appending\n",
    "        if link != '' and title != '' and description != '': \n",
    "            links.append(link['href'])\n",
    "            titles.append(title)\n",
    "            descriptions.append(description)\n",
    "    # Next loop if one element is not present\n",
    "    except:\n",
    "        continue\n",
    "        \n",
    "  \n",
    "\n",
    "to_remove = []\n",
    "clean_links = []\n",
    "for i, l in enumerate(links):\n",
    "    clean = re.search('\\/url\\?q\\=(.*)\\&sa',l)\n",
    "\n",
    "    # Anything that doesn't fit the above pattern will be removed\n",
    "    if clean is None:\n",
    "        to_remove.append(i)\n",
    "        continue\n",
    "    clean_links.append(clean.group(1))\n",
    "\n",
    "# Remove the corresponding titles & descriptions\n",
    "for x in to_remove:\n",
    "    del titles[x]\n",
    "    del descriptions[x]"
   ]
  },
  {
   "cell_type": "code",
   "execution_count": 3,
   "metadata": {},
   "outputs": [
    {
     "data": {
      "text/plain": [
       "['https://packaging.python.org/tutorials/packaging-projects/',\n",
       " 'https://devguide.python.org/setup/',\n",
       " 'https://docs.python.org/2.0/inst/how-build-works.html',\n",
       " 'https://docs.python.org/2.5/inst/standard-install.html',\n",
       " 'https://github.com/pyenv/pyenv/tree/master/plugins/python-build',\n",
       " 'https://realpython.com/installing-python/',\n",
       " 'https://www.freecodecamp.org/news/python-curriculum/',\n",
       " 'https://www.tensorflow.org/install/source',\n",
       " 'https://www.udemy.com/course/learn-python-build-a-virtual-assistant-in-python/',\n",
       " 'https://www.devdungeon.com/content/how-build-python-source',\n",
       " 'https://github.com/pyenv/pyenv/tree/master/plugins/python-build',\n",
       " 'https://github.com/pyenv/pyenv/tree/master/plugins/python-build',\n",
       " 'https://docs.python.org/2/using/unix.html',\n",
       " 'https://matplotlib.org/users/installing.html',\n",
       " 'https://pypi.org/project/python-build/',\n",
       " 'https://programminghistorian.org/en/lessons/creating-apis-with-python-and-flask',\n",
       " 'https://pythonspeed.com/articles/alpine-docker-python/',\n",
       " 'https://setuptools.readthedocs.io/en/latest/setuptools.html',\n",
       " 'https://towardsdatascience.com/build-your-first-open-source-python-project-53471c9942a7',\n",
       " 'https://atom.io/packages/build-python',\n",
       " 'https://data-flair.training/blogs/python-chatbot-project/',\n",
       " 'https://aws.amazon.com/getting-started/projects/build-modern-app-fargate-lambda-dynamodb-python/',\n",
       " 'https://www.mkdocs.org/']"
      ]
     },
     "execution_count": 3,
     "metadata": {},
     "output_type": "execute_result"
    }
   ],
   "source": [
    "clean_links"
   ]
  },
  {
   "cell_type": "code",
   "execution_count": 4,
   "metadata": {},
   "outputs": [
    {
     "data": {
      "text/plain": [
       "['Packaging Python Projects — Python Packaging User Guide',\n",
       " \"1. Getting Started — Python Developer's Guide\",\n",
       " '2.3 How building works - Python Docs',\n",
       " '2 Standard Build and Install - Python Docs',\n",
       " 'pyenv/plugins/python-build at master · pyenv/pyenv · GitHub',\n",
       " 'Python 3 Installation & Setup Guide – Real Python',\n",
       " 'Build 111 Projects, Earn 10 Certifications - Now With Python',\n",
       " 'Build from source | TensorFlow',\n",
       " 'Free Python Tutorial - Learn Python: Build a Virtual Assistant | Udemy',\n",
       " 'How to Build Python from Source | DevDungeon',\n",
       " 'pyenv/plugins/python-build at master · pyenv/pyenv · GitHub',\n",
       " 'pyenv/plugins/python-build at master · pyenv/pyenv · GitHub',\n",
       " '2. Using Python on Unix platforms — Python 2.7.17 documentation',\n",
       " 'Installing — Matplotlib 3.1.2 documentation',\n",
       " 'python-build · PyPI',\n",
       " 'Creating Web APIs with Python and Flask | Programming Historian',\n",
       " 'Alpine makes Python Docker builds 50× slower, and images 2× larger',\n",
       " 'Building and Distributing Packages with Setuptools — setuptools ...',\n",
       " 'Build Your First Open Source Python Project - Towards Data Science',\n",
       " 'build-python - Atom',\n",
       " 'Python Chatbot Project - Learn to build your first chatbot using NLTK ...',\n",
       " 'Build a Modern Web App - Amazon Web Services',\n",
       " 'MkDocs']"
      ]
     },
     "execution_count": 4,
     "metadata": {},
     "output_type": "execute_result"
    }
   ],
   "source": [
    "titles"
   ]
  },
  {
   "cell_type": "code",
   "execution_count": null,
   "metadata": {},
   "outputs": [],
   "source": []
  },
  {
   "cell_type": "code",
   "execution_count": null,
   "metadata": {},
   "outputs": [],
   "source": []
  },
  {
   "cell_type": "code",
   "execution_count": null,
   "metadata": {},
   "outputs": [],
   "source": []
  },
  {
   "cell_type": "code",
   "execution_count": null,
   "metadata": {},
   "outputs": [],
   "source": []
  },
  {
   "cell_type": "code",
   "execution_count": null,
   "metadata": {},
   "outputs": [],
   "source": []
  },
  {
   "cell_type": "code",
   "execution_count": 11,
   "metadata": {},
   "outputs": [],
   "source": [
    "from bs4 import BeautifulSoup\n",
    "import urllib\n",
    "\n",
    "def search(query):\n",
    "    query1 = urllib.parse.quote_plus(query)\n",
    "    address = \"http://www.bing.com/search?q=%s\" + query1\n",
    "    header = {'User-agent' : 'Mozilla/5.0 (Windows; U; Windows NT 5.1; de; rv:1.9.1.5) Gecko/20091102 Firefox/3.5.5'}\n",
    "\n",
    "    getRequest = urllib.Request(address, headers=header)\n",
    "\n",
    "    urlfile = urllib.urlopen(getRequest)\n",
    "    htmlResult = urlfile.read(3)\n",
    "    urlfile.close()\n",
    "\n",
    "    soup = BeautifulSoup(htmlResult)\n",
    "\n",
    "    [s.extract() for s in soup('span')]\n",
    "    unwantedTags = ['a', 'strong', 'cite']\n",
    "    for tag in unwantedTags:\n",
    "        for match in soup.findAll(tag):\n",
    "            match.replaceWithChildren()\n",
    "\n",
    "    results = soup.findAll('li', { \"class\" : \"b_algo\" })\n",
    "    for result in results:\n",
    "        print (\"# TITLE: \" + str(result.find('h2')).replace(\" \", \" \") + \"\\n#\")\n",
    "        print (\"# DESCRIPTION: \" + str(result.find('p')).replace(\" \", \" \"))\n",
    "        print (\"#\")"
   ]
  },
  {
   "cell_type": "code",
   "execution_count": 12,
   "metadata": {},
   "outputs": [
    {
     "ename": "AttributeError",
     "evalue": "module 'urllib' has no attribute 'quote_plus'",
     "output_type": "error",
     "traceback": [
      "\u001b[1;31m---------------------------------------------------------------------------\u001b[0m",
      "\u001b[1;31mAttributeError\u001b[0m                            Traceback (most recent call last)",
      "\u001b[1;32m<ipython-input-12-2502300d1db7>\u001b[0m in \u001b[0;36m<module>\u001b[1;34m\u001b[0m\n\u001b[1;32m----> 1\u001b[1;33m \u001b[0msearch\u001b[0m\u001b[1;33m(\u001b[0m\u001b[1;34m'dope'\u001b[0m\u001b[1;33m)\u001b[0m\u001b[1;33m\u001b[0m\u001b[1;33m\u001b[0m\u001b[0m\n\u001b[0m",
      "\u001b[1;32m<ipython-input-11-30f8516f8a02>\u001b[0m in \u001b[0;36msearch\u001b[1;34m(query)\u001b[0m\n\u001b[0;32m      3\u001b[0m \u001b[1;33m\u001b[0m\u001b[0m\n\u001b[0;32m      4\u001b[0m \u001b[1;32mdef\u001b[0m \u001b[0msearch\u001b[0m\u001b[1;33m(\u001b[0m\u001b[0mquery\u001b[0m\u001b[1;33m)\u001b[0m\u001b[1;33m:\u001b[0m\u001b[1;33m\u001b[0m\u001b[1;33m\u001b[0m\u001b[0m\n\u001b[1;32m----> 5\u001b[1;33m     \u001b[0maddress\u001b[0m \u001b[1;33m=\u001b[0m \u001b[1;34m\"http://www.bing.com/search?q=%s\"\u001b[0m \u001b[1;33m%\u001b[0m \u001b[1;33m(\u001b[0m\u001b[0murllib\u001b[0m\u001b[1;33m.\u001b[0m\u001b[0mquote_plus\u001b[0m\u001b[1;33m(\u001b[0m\u001b[0mquery\u001b[0m\u001b[1;33m)\u001b[0m\u001b[1;33m)\u001b[0m\u001b[1;33m\u001b[0m\u001b[1;33m\u001b[0m\u001b[0m\n\u001b[0m\u001b[0;32m      6\u001b[0m     \u001b[0mheader\u001b[0m \u001b[1;33m=\u001b[0m \u001b[1;33m{\u001b[0m\u001b[1;34m'User-agent'\u001b[0m \u001b[1;33m:\u001b[0m \u001b[1;34m'Mozilla/5.0 (Windows; U; Windows NT 5.1; de; rv:1.9.1.5) Gecko/20091102 Firefox/3.5.5'\u001b[0m\u001b[1;33m}\u001b[0m\u001b[1;33m\u001b[0m\u001b[1;33m\u001b[0m\u001b[0m\n\u001b[0;32m      7\u001b[0m \u001b[1;33m\u001b[0m\u001b[0m\n",
      "\u001b[1;31mAttributeError\u001b[0m: module 'urllib' has no attribute 'quote_plus'"
     ]
    }
   ],
   "source": [
    "search('dope')"
   ]
  },
  {
   "cell_type": "code",
   "execution_count": null,
   "metadata": {},
   "outputs": [],
   "source": []
  }
 ],
 "metadata": {
  "kernelspec": {
   "display_name": "Python 3",
   "language": "python",
   "name": "python3"
  },
  "language_info": {
   "codemirror_mode": {
    "name": "ipython",
    "version": 3
   },
   "file_extension": ".py",
   "mimetype": "text/x-python",
   "name": "python",
   "nbconvert_exporter": "python",
   "pygments_lexer": "ipython3",
   "version": "3.7.1"
  }
 },
 "nbformat": 4,
 "nbformat_minor": 2
}
